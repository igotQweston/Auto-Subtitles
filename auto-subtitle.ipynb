{
 "cells": [
  {
   "attachments": {},
   "cell_type": "markdown",
   "metadata": {},
   "source": [
    "### **AUTO-SUBTITILE**"
   ]
  },
  {
   "attachments": {},
   "cell_type": "markdown",
   "metadata": {},
   "source": [
    "#### **Import Packages and Load Whisper Model**"
   ]
  },
  {
   "cell_type": "code",
   "execution_count": null,
   "metadata": {},
   "outputs": [],
   "source": [
    "#import open ai's whisper and other packages\n",
    "import whisper\n",
    "import time\n",
    "#load whisper model small\n",
    "model = whisper.load_model('small')"
   ]
  },
  {
   "attachments": {},
   "cell_type": "markdown",
   "metadata": {},
   "source": [
    "#### **Load and Transcribe Audio File**"
   ]
  },
  {
   "cell_type": "code",
   "execution_count": null,
   "metadata": {},
   "outputs": [],
   "source": [
    "#set var to audio file\n",
    "mp3_file = 'audio.mp3'\n",
    "#load audio to whisper\n",
    "audio = whisper.load_audio(mp3_file)\n",
    "#transcribe audio file as english\n",
    "transcription = model.transcribe(audio, language='en')"
   ]
  },
  {
   "attachments": {},
   "cell_type": "markdown",
   "metadata": {},
   "source": [
    "#### **Set Filename for Subtitle**"
   ]
  },
  {
   "cell_type": "code",
   "execution_count": null,
   "metadata": {},
   "outputs": [],
   "source": [
    "filename=\"transcription\""
   ]
  },
  {
   "attachments": {},
   "cell_type": "markdown",
   "metadata": {},
   "source": [
    "#### **SRT Subtitle**"
   ]
  },
  {
   "cell_type": "code",
   "execution_count": null,
   "metadata": {},
   "outputs": [],
   "source": [
    "data = transcription[\"segments\"]\n",
    "#write to srt file\n",
    "with open('{filename}.srt'.format(filename=filename), 'a') as f:\n",
    "    for segments in data:\n",
    "        subtitles = \"{id}\\n{start},000 --> {end},000\\n{text}\\n\\n\".format(id = (int(segments[\"id\"])+1), start = time.strftime(\"%H:%M:%S\", time.gmtime(segments[\"start\"])), end = time.strftime(\"%H:%M:%S\", time.gmtime(segments[\"end\"])), text = segments[\"text\"])\n",
    "        f.write(subtitles)"
   ]
  },
  {
   "attachments": {},
   "cell_type": "markdown",
   "metadata": {},
   "source": [
    "##### **VTT Subtitle**"
   ]
  },
  {
   "cell_type": "code",
   "execution_count": null,
   "metadata": {},
   "outputs": [],
   "source": [
    "data = transcription[\"segments\"]\n",
    "#write to vtt file\n",
    "with open('{filename}.vtt'.format(filename=filename), 'a') as f:\n",
    "    f.write(\"WEBVTT\\n\\n\")\n",
    "    for segments in data:\n",
    "        subtitles = \"{id}\\n{start}.000 --> {end}.000\\n{text}\\n\\n\".format(id = (int(segments[\"id\"])+1), start = time.strftime(\"%H:%M:%S\", time.gmtime(segments[\"start\"])), end = time.strftime(\"%H:%M:%S\", time.gmtime(segments[\"end\"])), text = segments[\"text\"])\n",
    "        f.write(subtitles)"
   ]
  }
 ],
 "metadata": {
  "kernelspec": {
   "display_name": "Whisper",
   "language": "python",
   "name": "python3"
  },
  "language_info": {
   "codemirror_mode": {
    "name": "ipython",
    "version": 3
   },
   "file_extension": ".py",
   "mimetype": "text/x-python",
   "name": "python",
   "nbconvert_exporter": "python",
   "pygments_lexer": "ipython3",
   "version": "3.10.10"
  },
  "orig_nbformat": 4
 },
 "nbformat": 4,
 "nbformat_minor": 2
}
