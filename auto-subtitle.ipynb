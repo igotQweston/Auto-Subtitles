{
 "cells": [
  {
   "attachments": {},
   "cell_type": "markdown",
   "metadata": {},
   "source": [
    "## **AUTO-SUBTITILE**"
   ]
  },
  {
   "attachments": {},
   "cell_type": "markdown",
   "metadata": {},
   "source": [
    "### **Import Packages and Load Whisper Model**"
   ]
  },
  {
   "attachments": {},
   "cell_type": "markdown",
   "metadata": {},
   "source": [
    "#### **Using Open AI's Whisper**"
   ]
  },
  {
   "cell_type": "code",
   "execution_count": null,
   "metadata": {},
   "outputs": [],
   "source": [
    "#import open ai's whisper and other packages\n",
    "import whisper\n",
    "import time\n",
    "#load whisper model small\n",
    "model = whisper.load_model('small')"
   ]
  },
  {
   "attachments": {},
   "cell_type": "markdown",
   "metadata": {},
   "source": [
    "#### **Using jianfch's Stable Whisper**"
   ]
  },
  {
   "cell_type": "code",
   "execution_count": null,
   "metadata": {},
   "outputs": [],
   "source": [
    "#import stable whisper\n",
    "import stable_whisper\n",
    "#load stable whisper model small\n",
    "model = stable_whisper.load_model('small')"
   ]
  },
  {
   "attachments": {},
   "cell_type": "markdown",
   "metadata": {},
   "source": [
    "### **Transcribe Audio File**"
   ]
  },
  {
   "attachments": {},
   "cell_type": "markdown",
   "metadata": {},
   "source": [
    "#### **Using Open AI's Whisper**"
   ]
  },
  {
   "cell_type": "code",
   "execution_count": null,
   "metadata": {},
   "outputs": [],
   "source": [
    "#set var to audio file\n",
    "mp3_file = 'audio.mp3'\n",
    "#load audio to whisper\n",
    "audio = whisper.load_audio(mp3_file)\n",
    "#transcribe audio file as english\n",
    "transcription = model.transcribe(audio, language='en')"
   ]
  },
  {
   "attachments": {},
   "cell_type": "markdown",
   "metadata": {},
   "source": [
    "#### **Using jianfch's Stable Whisper**"
   ]
  },
  {
   "cell_type": "code",
   "execution_count": null,
   "metadata": {},
   "outputs": [],
   "source": [
    "#set var to audio file\n",
    "mp3_file = 'audio.mp3'\n",
    "#transcribe audio file as english\n",
    "transcription = model.transcribe(mp3_file, language='en')"
   ]
  },
  {
   "attachments": {},
   "cell_type": "markdown",
   "metadata": {},
   "source": [
    "### **Set Filename for Subtitle**"
   ]
  },
  {
   "cell_type": "code",
   "execution_count": null,
   "metadata": {},
   "outputs": [],
   "source": [
    "filename=\"transcription\""
   ]
  },
  {
   "attachments": {},
   "cell_type": "markdown",
   "metadata": {},
   "source": [
    "### **SRT Subtitle**"
   ]
  },
  {
   "attachments": {},
   "cell_type": "markdown",
   "metadata": {},
   "source": [
    "#### **Using Open AI's Whisper**"
   ]
  },
  {
   "cell_type": "code",
   "execution_count": null,
   "metadata": {},
   "outputs": [],
   "source": [
    "data = transcription[\"segments\"]\n",
    "subtitles = \"\"\n",
    "#write to srt file\n",
    "with open('{filename}.srt'.format(filename=filename), 'w') as f:\n",
    "    for segments in data:\n",
    "        subtitles = subtitles+\"{id}\\n{start},000 --> {end},000\\n{text}\\n\\n\".format(id = (int(segments[\"id\"])+1), start = time.strftime(\"%H:%M:%S\", time.gmtime(segments[\"start\"])), end = time.strftime(\"%H:%M:%S\", time.gmtime(segments[\"end\"])), text = segments[\"text\"].strip())\n",
    "    f.write(subtitles[:-4])"
   ]
  },
  {
   "attachments": {},
   "cell_type": "markdown",
   "metadata": {},
   "source": [
    "#### **Using jianfch's Stable Whisper**"
   ]
  },
  {
   "cell_type": "code",
   "execution_count": null,
   "metadata": {},
   "outputs": [],
   "source": [
    "# word_level=False : use only segment timestamps (i.e without the green highlight)\n",
    "# segment_level=False : use only word timestamps\n",
    "transcription.to_srt_vtt('{filename}.srt'.format(filename=filename))"
   ]
  },
  {
   "attachments": {},
   "cell_type": "markdown",
   "metadata": {},
   "source": [
    "### **VTT Subtitle**"
   ]
  },
  {
   "attachments": {},
   "cell_type": "markdown",
   "metadata": {},
   "source": [
    "#### **Using Open AI's Whisper**"
   ]
  },
  {
   "cell_type": "code",
   "execution_count": null,
   "metadata": {},
   "outputs": [],
   "source": [
    "data = transcription[\"segments\"]\n",
    "subtitles = \"\"\n",
    "#write to vtt file\n",
    "with open('{filename}.vtt'.format(filename=filename), 'w') as f:\n",
    "    subtitles = \"WEBVTT\\n\\n\"\n",
    "    for segments in data:\n",
    "        subtitles = subtitles+\"{start}.000 --> {end}.000\\n{text}\\n\\n\".format(start = time.strftime(\"%H:%M:%S\", time.gmtime(segments[\"start\"])), end = time.strftime(\"%H:%M:%S\", time.gmtime(segments[\"end\"])), text = segments[\"text\"].strip())\n",
    "    f.write(subtitles[:-4])"
   ]
  },
  {
   "attachments": {},
   "cell_type": "markdown",
   "metadata": {},
   "source": [
    "#### **Using jianfch's Stable Whisper**"
   ]
  },
  {
   "cell_type": "code",
   "execution_count": null,
   "metadata": {},
   "outputs": [],
   "source": [
    "# word_level=False : use only segment timestamps (i.e without the green highlight)\n",
    "# segment_level=False : use only word timestamps\n",
    "transcription.to_srt_vtt('{filename}.vtt'.format(filename=filename))"
   ]
  }
 ],
 "metadata": {
  "kernelspec": {
   "display_name": "Whisper",
   "language": "python",
   "name": "python3"
  },
  "language_info": {
   "codemirror_mode": {
    "name": "ipython",
    "version": 3
   },
   "file_extension": ".py",
   "mimetype": "text/x-python",
   "name": "python",
   "nbconvert_exporter": "python",
   "pygments_lexer": "ipython3",
   "version": "3.10.10"
  },
  "orig_nbformat": 4
 },
 "nbformat": 4,
 "nbformat_minor": 2
}
